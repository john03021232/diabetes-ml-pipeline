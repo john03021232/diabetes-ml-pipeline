{
 "cells": [
  {
   "cell_type": "code",
   "execution_count": 1,
   "id": "47a9fa35-4fbe-4538-bdca-ef1a05182fdb",
   "metadata": {},
   "outputs": [
    {
     "name": "stderr",
     "output_type": "stream",
     "text": [
      "/Library/Frameworks/Python.framework/Versions/3.12/lib/python3.12/site-packages/tqdm/auto.py:21: TqdmWarning: IProgress not found. Please update jupyter and ipywidgets. See https://ipywidgets.readthedocs.io/en/stable/user_install.html\n",
      "  from .autonotebook import tqdm as notebook_tqdm\n"
     ]
    },
    {
     "name": "stdout",
     "output_type": "stream",
     "text": [
      "Index(['PatientID', 'Pregnancies', 'PlasmaGlucose', 'DiastolicBloodPressure',\n",
      "       'TricepsThickness', 'SerumInsulin', 'BMI', 'DiabetesPedigree', 'Age',\n",
      "       'Diabetic'],\n",
      "      dtype='object')\n"
     ]
    },
    {
     "data": {
      "text/plain": [
       "['../models/scaler.pkl']"
      ]
     },
     "execution_count": 1,
     "metadata": {},
     "output_type": "execute_result"
    }
   ],
   "source": [
    "# Setup imports and path for local modules\n",
    "import sys\n",
    "sys.path.append(\"../src\")\n",
    "\n",
    "from data_preprocessing import load_and_preprocess\n",
    "from hpo_optuna import run_optimization\n",
    "from train_model import train\n",
    "from batch_inference import batch_predict\n",
    "# from drift_detection import detect_drift  # Optional bonus\n",
    "\n",
    "import joblib\n",
    "import mlflow\n",
    "import pandas as pd\n",
    "\n",
    "df = pd.read_csv(\"../data/diabetes.csv\")\n",
    "print(df.columns)\n",
    "df.head()\n",
    "\n",
    "\n",
    "# Step 1: Preprocess Data\n",
    "X_train, X_test, y_train, y_test, scaler = load_and_preprocess(\"../data/diabetes.csv\")\n",
    "joblib.dump(scaler, \"../models/scaler.pkl\")  # Save scaler for inference\n",
    "\n"
   ]
  },
  {
   "cell_type": "code",
   "execution_count": 2,
   "id": "73f59d9c-fe37-466e-82cb-8a3ad7c30222",
   "metadata": {},
   "outputs": [
    {
     "name": "stderr",
     "output_type": "stream",
     "text": [
      "[I 2025-07-19 15:46:44,531] A new study created in memory with name: no-name-b022e62a-78b7-454f-93fa-c143f699b3a0\n",
      "[I 2025-07-19 15:46:45,240] Trial 0 finished with value: 0.988105685161493 and parameters: {'n_estimators': 94, 'max_depth': 2, 'learning_rate': 0.1685875688225031}. Best is trial 0 with value: 0.988105685161493.\n",
      "[I 2025-07-19 15:46:45,983] Trial 1 finished with value: 0.9879832895326335 and parameters: {'n_estimators': 105, 'max_depth': 2, 'learning_rate': 0.13579420770574724}. Best is trial 0 with value: 0.988105685161493.\n",
      "[I 2025-07-19 15:46:50,158] Trial 2 finished with value: 0.9854522403018785 and parameters: {'n_estimators': 108, 'max_depth': 10, 'learning_rate': 0.1542425304770951}. Best is trial 0 with value: 0.988105685161493.\n",
      "[I 2025-07-19 15:46:52,660] Trial 3 finished with value: 0.989437026294276 and parameters: {'n_estimators': 121, 'max_depth': 6, 'learning_rate': 0.1393394187793234}. Best is trial 3 with value: 0.989437026294276.\n",
      "[I 2025-07-19 15:46:54,389] Trial 4 finished with value: 0.9911205435289663 and parameters: {'n_estimators': 164, 'max_depth': 3, 'learning_rate': 0.10669109577742919}. Best is trial 4 with value: 0.9911205435289663.\n",
      "[I 2025-07-19 15:46:57,101] Trial 5 finished with value: 0.9735082744063812 and parameters: {'n_estimators': 72, 'max_depth': 10, 'learning_rate': 0.0692787313183626}. Best is trial 4 with value: 0.9911205435289663.\n",
      "[I 2025-07-19 15:46:58,804] Trial 6 finished with value: 0.990203730988264 and parameters: {'n_estimators': 82, 'max_depth': 6, 'learning_rate': 0.19711948525155534}. Best is trial 4 with value: 0.9911205435289663.\n",
      "[I 2025-07-19 15:47:00,913] Trial 7 finished with value: 0.9909704356822517 and parameters: {'n_estimators': 197, 'max_depth': 3, 'learning_rate': 0.09223429638038454}. Best is trial 4 with value: 0.9911205435289663.\n",
      "[I 2025-07-19 15:47:01,551] Trial 8 finished with value: 0.9859337400871088 and parameters: {'n_estimators': 60, 'max_depth': 3, 'learning_rate': 0.118546121346628}. Best is trial 4 with value: 0.9911205435289663.\n",
      "[I 2025-07-19 15:47:06,243] Trial 9 finished with value: 0.985027319628102 and parameters: {'n_estimators': 123, 'max_depth': 10, 'learning_rate': 0.15382412684319224}. Best is trial 4 with value: 0.9911205435289663.\n",
      "[I 2025-07-19 15:47:09,144] Trial 10 finished with value: 0.9854037439206321 and parameters: {'n_estimators': 166, 'max_depth': 5, 'learning_rate': 0.02765471981850119}. Best is trial 4 with value: 0.9911205435289663.\n",
      "[I 2025-07-19 15:47:11,897] Trial 11 finished with value: 0.9906886948007261 and parameters: {'n_estimators': 199, 'max_depth': 4, 'learning_rate': 0.0830210159785201}. Best is trial 4 with value: 0.9911205435289663.\n",
      "[I 2025-07-19 15:47:16,404] Trial 12 finished with value: 0.9873828581457754 and parameters: {'n_estimators': 158, 'max_depth': 8, 'learning_rate': 0.08910396319191255}. Best is trial 4 with value: 0.9911205435289663.\n",
      "[I 2025-07-19 15:47:19,203] Trial 13 finished with value: 0.9893943032917495 and parameters: {'n_estimators': 200, 'max_depth': 4, 'learning_rate': 0.049953126989668785}. Best is trial 4 with value: 0.9911205435289663.\n",
      "[I 2025-07-19 15:47:21,502] Trial 14 finished with value: 0.9909138565707978 and parameters: {'n_estimators': 165, 'max_depth': 4, 'learning_rate': 0.10767315870802953}. Best is trial 4 with value: 0.9911205435289663.\n",
      "[I 2025-07-19 15:47:26,613] Trial 15 finished with value: 0.986166984587388 and parameters: {'n_estimators': 180, 'max_depth': 8, 'learning_rate': 0.05719977122430979}. Best is trial 4 with value: 0.9911205435289663.\n",
      "[I 2025-07-19 15:47:28,146] Trial 16 finished with value: 0.975937134833796 and parameters: {'n_estimators': 145, 'max_depth': 3, 'learning_rate': 0.022290357606630354}. Best is trial 4 with value: 0.9911205435289663.\n",
      "[I 2025-07-19 15:47:29,647] Trial 17 finished with value: 0.9898607922923085 and parameters: {'n_estimators': 142, 'max_depth': 3, 'learning_rate': 0.09540659892603731}. Best is trial 4 with value: 0.9911205435289663.\n",
      "[I 2025-07-19 15:47:32,769] Trial 18 finished with value: 0.9901436878495782 and parameters: {'n_estimators': 182, 'max_depth': 5, 'learning_rate': 0.11788874634038463}. Best is trial 4 with value: 0.9911205435289663.\n",
      "[I 2025-07-19 15:47:34,095] Trial 19 finished with value: 0.9877130954085473 and parameters: {'n_estimators': 183, 'max_depth': 2, 'learning_rate': 0.07999259376625888}. Best is trial 4 with value: 0.9911205435289663.\n"
     ]
    },
    {
     "name": "stdout",
     "output_type": "stream",
     "text": [
      "Best trial: {'n_estimators': 164, 'max_depth': 3, 'learning_rate': 0.10669109577742919}\n",
      "Best Parameters: {'n_estimators': 164, 'max_depth': 3, 'learning_rate': 0.10669109577742919}\n"
     ]
    }
   ],
   "source": [
    "# Step 2: Hyperparameter Tuning with Optuna\n",
    "best_params = run_optimization()\n",
    "print(\"Best Parameters:\", best_params)\n"
   ]
  },
  {
   "cell_type": "code",
   "execution_count": 3,
   "id": "84415013-1f94-4f64-9e39-84cb6fcc7bd3",
   "metadata": {},
   "outputs": [
    {
     "name": "stderr",
     "output_type": "stream",
     "text": [
      "2025/07/19 15:48:38 WARNING mlflow.models.model: `artifact_path` is deprecated. Please use `name` instead.\n",
      "\u001b[31m2025/07/19 15:48:40 WARNING mlflow.models.model: Model logged without a signature and input example. Please set `input_example` parameter when logging the model to auto infer the model signature.\u001b[0m\n"
     ]
    },
    {
     "name": "stdout",
     "output_type": "stream",
     "text": [
      "Model saved to ../models/model.pkl\n",
      "Final Accuracy: 0.9490, AUC: 0.9911\n"
     ]
    }
   ],
   "source": [
    "# Step 3: Train final model using best parameters\n",
    "best_model, acc, auc = train(X_train, X_test, y_train, y_test, best_params)\n",
    "print(f\"Final Accuracy: {acc:.4f}, AUC: {auc:.4f}\")\n"
   ]
  },
  {
   "cell_type": "code",
   "execution_count": 4,
   "id": "aeab2323-d0a0-4e93-b709-2f6177a7f459",
   "metadata": {},
   "outputs": [
    {
     "name": "stderr",
     "output_type": "stream",
     "text": [
      "2025/07/19 15:48:45 WARNING mlflow.models.model: `artifact_path` is deprecated. Please use `name` instead.\n"
     ]
    },
    {
     "name": "stdout",
     "output_type": "stream",
     "text": [
      "Final model saved at: models/final_model.pkl\n"
     ]
    },
    {
     "name": "stderr",
     "output_type": "stream",
     "text": [
      "\u001b[31m2025/07/19 15:48:47 WARNING mlflow.models.model: Model logged without a signature and input example. Please set `input_example` parameter when logging the model to auto infer the model signature.\u001b[0m\n"
     ]
    },
    {
     "name": "stdout",
     "output_type": "stream",
     "text": [
      "Model registered to MLflow\n",
      "Final Accuracy: 0.949\n",
      "Final AUC: 0.9911216982047102\n"
     ]
    }
   ],
   "source": [
    "# Step 4: Model Registration\n",
    "\n",
    "# 1. Import the register_model function from your script\n",
    "from model_registration import register_model\n",
    "\n",
    "import mlflow\n",
    "mlflow.end_run() # End any active run\n",
    "\n",
    "# 2. Call it with your final model and test data\n",
    "acc, auc = register_model(best_model, X_test, y_test, best_params)\n",
    "\n",
    "print(\"Final Accuracy:\", acc)\n",
    "print(\"Final AUC:\", auc)\n"
   ]
  },
  {
   "cell_type": "code",
   "execution_count": 5,
   "id": "c2d7d0e9-f875-4f29-99af-72eb0b6c1844",
   "metadata": {},
   "outputs": [
    {
     "name": "stdout",
     "output_type": "stream",
     "text": [
      "Saved predictions to ../output/predictions.csv\n",
      "   PatientID  Pregnancies  PlasmaGlucose  DiastolicBloodPressure  \\\n",
      "0    1142956            1             78                      41   \n",
      "1    1823377            0            116                      92   \n",
      "2    1916381            8            171                      42   \n",
      "3    1247480            3            108                      63   \n",
      "4    1516947            8            153                      99   \n",
      "\n",
      "   TricepsThickness  SerumInsulin        BMI  DiabetesPedigree  Age  Diabetic  \\\n",
      "0                33           311  50.796392          0.420804   24         0   \n",
      "1                16           184  18.603630          0.131156   22         0   \n",
      "2                29           160  35.482247          0.082671   22         1   \n",
      "3                45           297  49.375169          0.100979   46         1   \n",
      "4                15            41  35.062139          0.116191   22         1   \n",
      "\n",
      "   prediction  prediction_prob  \n",
      "0           0         0.004430  \n",
      "1           0         0.006167  \n",
      "2           1         0.800299  \n",
      "3           1         0.991066  \n",
      "4           0         0.447456  \n"
     ]
    }
   ],
   "source": [
    "# Step 5: Run Batch Inference on New Data (diabetes2.csv)\n",
    "import sys\n",
    "sys.path.append(\"../src\")\n",
    "\n",
    "from batch_inference import batch_predict  # import after adding path\n",
    "\n",
    "import joblib\n",
    "import pandas as pd\n",
    "\n",
    "# Paths\n",
    "model_path = \"../models/model.pkl\"\n",
    "scaler_path = \"../models/scaler.pkl\"\n",
    "input_csv_path = \"../data/diabetes2.csv\"\n",
    "output_csv_path = \"../output/predictions.csv\"\n",
    "\n",
    "# Load scaler\n",
    "scaler = joblib.load(scaler_path)\n",
    "\n",
    "# Run batch inference\n",
    "batch_predict(model_path, scaler, input_csv_path, output_csv_path)\n",
    "\n",
    "# Preview some predictions\n",
    "predictions = pd.read_csv(output_csv_path)\n",
    "print(predictions.head())\n",
    "\n"
   ]
  },
  {
   "cell_type": "code",
   "execution_count": 1,
   "id": "53836694-9498-45e0-9f8a-f14b8763562c",
   "metadata": {},
   "outputs": [
    {
     "ename": "FileNotFoundError",
     "evalue": "[Errno 2] No such file or directory: '../data/weekly_drifted.csv'",
     "output_type": "error",
     "traceback": [
      "\u001b[31m---------------------------------------------------------------------------\u001b[39m",
      "\u001b[31mFileNotFoundError\u001b[39m                         Traceback (most recent call last)",
      "\u001b[36mCell\u001b[39m\u001b[36m \u001b[39m\u001b[32mIn[1]\u001b[39m\u001b[32m, line 9\u001b[39m\n\u001b[32m      6\u001b[39m \u001b[38;5;28;01mfrom\u001b[39;00m\u001b[38;5;250m \u001b[39m\u001b[34;01mdrift_detection\u001b[39;00m\u001b[38;5;250m \u001b[39m\u001b[38;5;28;01mimport\u001b[39;00m detect_drift\n\u001b[32m      8\u001b[39m \u001b[38;5;66;03m# Run the function and get results\u001b[39;00m\n\u001b[32m----> \u001b[39m\u001b[32m9\u001b[39m results = \u001b[43mdetect_drift\u001b[49m\u001b[43m(\u001b[49m\u001b[33;43m\"\u001b[39;49m\u001b[33;43m../data/diabetes.csv\u001b[39;49m\u001b[33;43m\"\u001b[39;49m\u001b[43m,\u001b[49m\u001b[43m \u001b[49m\u001b[33;43m\"\u001b[39;49m\u001b[33;43m../data/weekly_drifted.csv\u001b[39;49m\u001b[33;43m\"\u001b[39;49m\u001b[43m,\u001b[49m\u001b[43m \u001b[49m\u001b[43mshow_plots\u001b[49m\u001b[43m=\u001b[49m\u001b[38;5;28;43;01mTrue\u001b[39;49;00m\u001b[43m)\u001b[49m\n\u001b[32m     11\u001b[39m \u001b[38;5;66;03m# Display results\u001b[39;00m\n\u001b[32m     12\u001b[39m \u001b[38;5;28;01mimport\u001b[39;00m\u001b[38;5;250m \u001b[39m\u001b[34;01mpandas\u001b[39;00m\u001b[38;5;250m \u001b[39m\u001b[38;5;28;01mas\u001b[39;00m\u001b[38;5;250m \u001b[39m\u001b[34;01mpd\u001b[39;00m\n",
      "\u001b[36mFile \u001b[39m\u001b[32m~/Desktop/diabetes-ml-pipeline/notebooks/../src/drift_detection.py:11\u001b[39m, in \u001b[36mdetect_drift\u001b[39m\u001b[34m(reference_csv, current_csv, alpha, show_plots)\u001b[39m\n\u001b[32m      9\u001b[39m \u001b[38;5;28;01mdef\u001b[39;00m\u001b[38;5;250m \u001b[39m\u001b[34mdetect_drift\u001b[39m(reference_csv, current_csv, alpha=\u001b[32m0.05\u001b[39m, show_plots=\u001b[38;5;28;01mFalse\u001b[39;00m):\n\u001b[32m     10\u001b[39m     reference_df = pd.read_csv(reference_csv)\n\u001b[32m---> \u001b[39m\u001b[32m11\u001b[39m     current_df = \u001b[43mpd\u001b[49m\u001b[43m.\u001b[49m\u001b[43mread_csv\u001b[49m\u001b[43m(\u001b[49m\u001b[43mcurrent_csv\u001b[49m\u001b[43m)\u001b[49m\n\u001b[32m     13\u001b[39m     drift_results = []\n\u001b[32m     15\u001b[39m     \u001b[38;5;28;01mfor\u001b[39;00m col \u001b[38;5;129;01min\u001b[39;00m reference_df.columns:\n",
      "\u001b[36mFile \u001b[39m\u001b[32m/Library/Frameworks/Python.framework/Versions/3.12/lib/python3.12/site-packages/pandas/io/parsers/readers.py:1026\u001b[39m, in \u001b[36mread_csv\u001b[39m\u001b[34m(filepath_or_buffer, sep, delimiter, header, names, index_col, usecols, dtype, engine, converters, true_values, false_values, skipinitialspace, skiprows, skipfooter, nrows, na_values, keep_default_na, na_filter, verbose, skip_blank_lines, parse_dates, infer_datetime_format, keep_date_col, date_parser, date_format, dayfirst, cache_dates, iterator, chunksize, compression, thousands, decimal, lineterminator, quotechar, quoting, doublequote, escapechar, comment, encoding, encoding_errors, dialect, on_bad_lines, delim_whitespace, low_memory, memory_map, float_precision, storage_options, dtype_backend)\u001b[39m\n\u001b[32m   1013\u001b[39m kwds_defaults = _refine_defaults_read(\n\u001b[32m   1014\u001b[39m     dialect,\n\u001b[32m   1015\u001b[39m     delimiter,\n\u001b[32m   (...)\u001b[39m\u001b[32m   1022\u001b[39m     dtype_backend=dtype_backend,\n\u001b[32m   1023\u001b[39m )\n\u001b[32m   1024\u001b[39m kwds.update(kwds_defaults)\n\u001b[32m-> \u001b[39m\u001b[32m1026\u001b[39m \u001b[38;5;28;01mreturn\u001b[39;00m \u001b[43m_read\u001b[49m\u001b[43m(\u001b[49m\u001b[43mfilepath_or_buffer\u001b[49m\u001b[43m,\u001b[49m\u001b[43m \u001b[49m\u001b[43mkwds\u001b[49m\u001b[43m)\u001b[49m\n",
      "\u001b[36mFile \u001b[39m\u001b[32m/Library/Frameworks/Python.framework/Versions/3.12/lib/python3.12/site-packages/pandas/io/parsers/readers.py:620\u001b[39m, in \u001b[36m_read\u001b[39m\u001b[34m(filepath_or_buffer, kwds)\u001b[39m\n\u001b[32m    617\u001b[39m _validate_names(kwds.get(\u001b[33m\"\u001b[39m\u001b[33mnames\u001b[39m\u001b[33m\"\u001b[39m, \u001b[38;5;28;01mNone\u001b[39;00m))\n\u001b[32m    619\u001b[39m \u001b[38;5;66;03m# Create the parser.\u001b[39;00m\n\u001b[32m--> \u001b[39m\u001b[32m620\u001b[39m parser = \u001b[43mTextFileReader\u001b[49m\u001b[43m(\u001b[49m\u001b[43mfilepath_or_buffer\u001b[49m\u001b[43m,\u001b[49m\u001b[43m \u001b[49m\u001b[43m*\u001b[49m\u001b[43m*\u001b[49m\u001b[43mkwds\u001b[49m\u001b[43m)\u001b[49m\n\u001b[32m    622\u001b[39m \u001b[38;5;28;01mif\u001b[39;00m chunksize \u001b[38;5;129;01mor\u001b[39;00m iterator:\n\u001b[32m    623\u001b[39m     \u001b[38;5;28;01mreturn\u001b[39;00m parser\n",
      "\u001b[36mFile \u001b[39m\u001b[32m/Library/Frameworks/Python.framework/Versions/3.12/lib/python3.12/site-packages/pandas/io/parsers/readers.py:1620\u001b[39m, in \u001b[36mTextFileReader.__init__\u001b[39m\u001b[34m(self, f, engine, **kwds)\u001b[39m\n\u001b[32m   1617\u001b[39m     \u001b[38;5;28mself\u001b[39m.options[\u001b[33m\"\u001b[39m\u001b[33mhas_index_names\u001b[39m\u001b[33m\"\u001b[39m] = kwds[\u001b[33m\"\u001b[39m\u001b[33mhas_index_names\u001b[39m\u001b[33m\"\u001b[39m]\n\u001b[32m   1619\u001b[39m \u001b[38;5;28mself\u001b[39m.handles: IOHandles | \u001b[38;5;28;01mNone\u001b[39;00m = \u001b[38;5;28;01mNone\u001b[39;00m\n\u001b[32m-> \u001b[39m\u001b[32m1620\u001b[39m \u001b[38;5;28mself\u001b[39m._engine = \u001b[38;5;28;43mself\u001b[39;49m\u001b[43m.\u001b[49m\u001b[43m_make_engine\u001b[49m\u001b[43m(\u001b[49m\u001b[43mf\u001b[49m\u001b[43m,\u001b[49m\u001b[43m \u001b[49m\u001b[38;5;28;43mself\u001b[39;49m\u001b[43m.\u001b[49m\u001b[43mengine\u001b[49m\u001b[43m)\u001b[49m\n",
      "\u001b[36mFile \u001b[39m\u001b[32m/Library/Frameworks/Python.framework/Versions/3.12/lib/python3.12/site-packages/pandas/io/parsers/readers.py:1880\u001b[39m, in \u001b[36mTextFileReader._make_engine\u001b[39m\u001b[34m(self, f, engine)\u001b[39m\n\u001b[32m   1878\u001b[39m     \u001b[38;5;28;01mif\u001b[39;00m \u001b[33m\"\u001b[39m\u001b[33mb\u001b[39m\u001b[33m\"\u001b[39m \u001b[38;5;129;01mnot\u001b[39;00m \u001b[38;5;129;01min\u001b[39;00m mode:\n\u001b[32m   1879\u001b[39m         mode += \u001b[33m\"\u001b[39m\u001b[33mb\u001b[39m\u001b[33m\"\u001b[39m\n\u001b[32m-> \u001b[39m\u001b[32m1880\u001b[39m \u001b[38;5;28mself\u001b[39m.handles = \u001b[43mget_handle\u001b[49m\u001b[43m(\u001b[49m\n\u001b[32m   1881\u001b[39m \u001b[43m    \u001b[49m\u001b[43mf\u001b[49m\u001b[43m,\u001b[49m\n\u001b[32m   1882\u001b[39m \u001b[43m    \u001b[49m\u001b[43mmode\u001b[49m\u001b[43m,\u001b[49m\n\u001b[32m   1883\u001b[39m \u001b[43m    \u001b[49m\u001b[43mencoding\u001b[49m\u001b[43m=\u001b[49m\u001b[38;5;28;43mself\u001b[39;49m\u001b[43m.\u001b[49m\u001b[43moptions\u001b[49m\u001b[43m.\u001b[49m\u001b[43mget\u001b[49m\u001b[43m(\u001b[49m\u001b[33;43m\"\u001b[39;49m\u001b[33;43mencoding\u001b[39;49m\u001b[33;43m\"\u001b[39;49m\u001b[43m,\u001b[49m\u001b[43m \u001b[49m\u001b[38;5;28;43;01mNone\u001b[39;49;00m\u001b[43m)\u001b[49m\u001b[43m,\u001b[49m\n\u001b[32m   1884\u001b[39m \u001b[43m    \u001b[49m\u001b[43mcompression\u001b[49m\u001b[43m=\u001b[49m\u001b[38;5;28;43mself\u001b[39;49m\u001b[43m.\u001b[49m\u001b[43moptions\u001b[49m\u001b[43m.\u001b[49m\u001b[43mget\u001b[49m\u001b[43m(\u001b[49m\u001b[33;43m\"\u001b[39;49m\u001b[33;43mcompression\u001b[39;49m\u001b[33;43m\"\u001b[39;49m\u001b[43m,\u001b[49m\u001b[43m \u001b[49m\u001b[38;5;28;43;01mNone\u001b[39;49;00m\u001b[43m)\u001b[49m\u001b[43m,\u001b[49m\n\u001b[32m   1885\u001b[39m \u001b[43m    \u001b[49m\u001b[43mmemory_map\u001b[49m\u001b[43m=\u001b[49m\u001b[38;5;28;43mself\u001b[39;49m\u001b[43m.\u001b[49m\u001b[43moptions\u001b[49m\u001b[43m.\u001b[49m\u001b[43mget\u001b[49m\u001b[43m(\u001b[49m\u001b[33;43m\"\u001b[39;49m\u001b[33;43mmemory_map\u001b[39;49m\u001b[33;43m\"\u001b[39;49m\u001b[43m,\u001b[49m\u001b[43m \u001b[49m\u001b[38;5;28;43;01mFalse\u001b[39;49;00m\u001b[43m)\u001b[49m\u001b[43m,\u001b[49m\n\u001b[32m   1886\u001b[39m \u001b[43m    \u001b[49m\u001b[43mis_text\u001b[49m\u001b[43m=\u001b[49m\u001b[43mis_text\u001b[49m\u001b[43m,\u001b[49m\n\u001b[32m   1887\u001b[39m \u001b[43m    \u001b[49m\u001b[43merrors\u001b[49m\u001b[43m=\u001b[49m\u001b[38;5;28;43mself\u001b[39;49m\u001b[43m.\u001b[49m\u001b[43moptions\u001b[49m\u001b[43m.\u001b[49m\u001b[43mget\u001b[49m\u001b[43m(\u001b[49m\u001b[33;43m\"\u001b[39;49m\u001b[33;43mencoding_errors\u001b[39;49m\u001b[33;43m\"\u001b[39;49m\u001b[43m,\u001b[49m\u001b[43m \u001b[49m\u001b[33;43m\"\u001b[39;49m\u001b[33;43mstrict\u001b[39;49m\u001b[33;43m\"\u001b[39;49m\u001b[43m)\u001b[49m\u001b[43m,\u001b[49m\n\u001b[32m   1888\u001b[39m \u001b[43m    \u001b[49m\u001b[43mstorage_options\u001b[49m\u001b[43m=\u001b[49m\u001b[38;5;28;43mself\u001b[39;49m\u001b[43m.\u001b[49m\u001b[43moptions\u001b[49m\u001b[43m.\u001b[49m\u001b[43mget\u001b[49m\u001b[43m(\u001b[49m\u001b[33;43m\"\u001b[39;49m\u001b[33;43mstorage_options\u001b[39;49m\u001b[33;43m\"\u001b[39;49m\u001b[43m,\u001b[49m\u001b[43m \u001b[49m\u001b[38;5;28;43;01mNone\u001b[39;49;00m\u001b[43m)\u001b[49m\u001b[43m,\u001b[49m\n\u001b[32m   1889\u001b[39m \u001b[43m\u001b[49m\u001b[43m)\u001b[49m\n\u001b[32m   1890\u001b[39m \u001b[38;5;28;01massert\u001b[39;00m \u001b[38;5;28mself\u001b[39m.handles \u001b[38;5;129;01mis\u001b[39;00m \u001b[38;5;129;01mnot\u001b[39;00m \u001b[38;5;28;01mNone\u001b[39;00m\n\u001b[32m   1891\u001b[39m f = \u001b[38;5;28mself\u001b[39m.handles.handle\n",
      "\u001b[36mFile \u001b[39m\u001b[32m/Library/Frameworks/Python.framework/Versions/3.12/lib/python3.12/site-packages/pandas/io/common.py:873\u001b[39m, in \u001b[36mget_handle\u001b[39m\u001b[34m(path_or_buf, mode, encoding, compression, memory_map, is_text, errors, storage_options)\u001b[39m\n\u001b[32m    868\u001b[39m \u001b[38;5;28;01melif\u001b[39;00m \u001b[38;5;28misinstance\u001b[39m(handle, \u001b[38;5;28mstr\u001b[39m):\n\u001b[32m    869\u001b[39m     \u001b[38;5;66;03m# Check whether the filename is to be opened in binary mode.\u001b[39;00m\n\u001b[32m    870\u001b[39m     \u001b[38;5;66;03m# Binary mode does not support 'encoding' and 'newline'.\u001b[39;00m\n\u001b[32m    871\u001b[39m     \u001b[38;5;28;01mif\u001b[39;00m ioargs.encoding \u001b[38;5;129;01mand\u001b[39;00m \u001b[33m\"\u001b[39m\u001b[33mb\u001b[39m\u001b[33m\"\u001b[39m \u001b[38;5;129;01mnot\u001b[39;00m \u001b[38;5;129;01min\u001b[39;00m ioargs.mode:\n\u001b[32m    872\u001b[39m         \u001b[38;5;66;03m# Encoding\u001b[39;00m\n\u001b[32m--> \u001b[39m\u001b[32m873\u001b[39m         handle = \u001b[38;5;28;43mopen\u001b[39;49m\u001b[43m(\u001b[49m\n\u001b[32m    874\u001b[39m \u001b[43m            \u001b[49m\u001b[43mhandle\u001b[49m\u001b[43m,\u001b[49m\n\u001b[32m    875\u001b[39m \u001b[43m            \u001b[49m\u001b[43mioargs\u001b[49m\u001b[43m.\u001b[49m\u001b[43mmode\u001b[49m\u001b[43m,\u001b[49m\n\u001b[32m    876\u001b[39m \u001b[43m            \u001b[49m\u001b[43mencoding\u001b[49m\u001b[43m=\u001b[49m\u001b[43mioargs\u001b[49m\u001b[43m.\u001b[49m\u001b[43mencoding\u001b[49m\u001b[43m,\u001b[49m\n\u001b[32m    877\u001b[39m \u001b[43m            \u001b[49m\u001b[43merrors\u001b[49m\u001b[43m=\u001b[49m\u001b[43merrors\u001b[49m\u001b[43m,\u001b[49m\n\u001b[32m    878\u001b[39m \u001b[43m            \u001b[49m\u001b[43mnewline\u001b[49m\u001b[43m=\u001b[49m\u001b[33;43m\"\u001b[39;49m\u001b[33;43m\"\u001b[39;49m\u001b[43m,\u001b[49m\n\u001b[32m    879\u001b[39m \u001b[43m        \u001b[49m\u001b[43m)\u001b[49m\n\u001b[32m    880\u001b[39m     \u001b[38;5;28;01melse\u001b[39;00m:\n\u001b[32m    881\u001b[39m         \u001b[38;5;66;03m# Binary mode\u001b[39;00m\n\u001b[32m    882\u001b[39m         handle = \u001b[38;5;28mopen\u001b[39m(handle, ioargs.mode)\n",
      "\u001b[31mFileNotFoundError\u001b[39m: [Errno 2] No such file or directory: '../data/weekly_drifted.csv'"
     ]
    }
   ],
   "source": [
    "#(Optional Bonus) Data Drift Detection\n",
    "\n",
    "import sys\n",
    "sys.path.append('../src')  # Adjust path based on where your src/ folder is\n",
    "\n",
    "from drift_detection import detect_drift\n",
    "\n",
    "# Run the function and get results\n",
    "results = detect_drift(\"../data/diabetes.csv\", \"../data/diabetes2.csv\", show_plots=True)\n",
    "\n",
    "# Display results\n",
    "import pandas as pd\n",
    "result_df = pd.DataFrame(results)\n",
    "result_df\n",
    "\n"
   ]
  },
  {
   "cell_type": "code",
   "execution_count": 3,
   "id": "6ceb0aea-9ade-4fb7-bac8-45d98f761e6c",
   "metadata": {},
   "outputs": [
    {
     "name": "stdout",
     "output_type": "stream",
     "text": [
      "0.7.11\n"
     ]
    }
   ],
   "source": [
    "import evidently\n",
    "print(evidently.__version__)\n"
   ]
  },
  {
   "cell_type": "code",
   "execution_count": null,
   "id": "88e6ec20-0c00-47c6-b562-9f6ef5a28605",
   "metadata": {},
   "outputs": [],
   "source": []
  }
 ],
 "metadata": {
  "kernelspec": {
   "display_name": "Python 3 (ipykernel)",
   "language": "python",
   "name": "python3"
  },
  "language_info": {
   "codemirror_mode": {
    "name": "ipython",
    "version": 3
   },
   "file_extension": ".py",
   "mimetype": "text/x-python",
   "name": "python",
   "nbconvert_exporter": "python",
   "pygments_lexer": "ipython3",
   "version": "3.12.4"
  }
 },
 "nbformat": 4,
 "nbformat_minor": 5
}
