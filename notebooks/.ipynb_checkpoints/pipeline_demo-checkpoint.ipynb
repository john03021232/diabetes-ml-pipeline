{
 "cells": [
  {
   "cell_type": "code",
   "execution_count": 1,
   "id": "47a9fa35-4fbe-4538-bdca-ef1a05182fdb",
   "metadata": {},
   "outputs": [
    {
     "name": "stderr",
     "output_type": "stream",
     "text": [
      "/Library/Frameworks/Python.framework/Versions/3.12/lib/python3.12/site-packages/tqdm/auto.py:21: TqdmWarning: IProgress not found. Please update jupyter and ipywidgets. See https://ipywidgets.readthedocs.io/en/stable/user_install.html\n",
      "  from .autonotebook import tqdm as notebook_tqdm\n"
     ]
    },
    {
     "name": "stdout",
     "output_type": "stream",
     "text": [
      "Index(['PatientID', 'Pregnancies', 'PlasmaGlucose', 'DiastolicBloodPressure',\n",
      "       'TricepsThickness', 'SerumInsulin', 'BMI', 'DiabetesPedigree', 'Age',\n",
      "       'Diabetic'],\n",
      "      dtype='object')\n"
     ]
    },
    {
     "data": {
      "text/plain": [
       "['../models/scaler.pkl']"
      ]
     },
     "execution_count": 1,
     "metadata": {},
     "output_type": "execute_result"
    }
   ],
   "source": [
    "# Setup imports and path for local modules\n",
    "import sys\n",
    "sys.path.append(\"../src\")\n",
    "\n",
    "from data_preprocessing import load_and_preprocess\n",
    "from hpo_optuna import run_optimization\n",
    "from train_model import train\n",
    "from batch_inference import batch_predict\n",
    "# from drift_detection import detect_drift  # Optional bonus\n",
    "\n",
    "import joblib\n",
    "import mlflow\n",
    "import pandas as pd\n",
    "\n",
    "df = pd.read_csv(\"../data/diabetes.csv\")\n",
    "print(df.columns)\n",
    "df.head()\n",
    "\n",
    "\n",
    "# Step 1: Preprocess Data\n",
    "X_train, X_test, y_train, y_test, scaler = load_and_preprocess(\"../data/diabetes.csv\")\n",
    "joblib.dump(scaler, \"../models/scaler.pkl\")  # Save scaler for inference\n",
    "\n"
   ]
  },
  {
   "cell_type": "code",
   "execution_count": 2,
   "id": "73f59d9c-fe37-466e-82cb-8a3ad7c30222",
   "metadata": {},
   "outputs": [
    {
     "name": "stderr",
     "output_type": "stream",
     "text": [
      "[I 2025-07-18 02:31:28,903] A new study created in memory with name: no-name-f5c7314d-2168-4121-84d9-9a354533d5ec\n",
      "[I 2025-07-18 02:31:33,685] Trial 0 finished with value: 0.985138168499522 and parameters: {'n_estimators': 122, 'max_depth': 10, 'learning_rate': 0.17275640563159309}. Best is trial 0 with value: 0.985138168499522.\n",
      "[I 2025-07-18 02:31:36,346] Trial 1 finished with value: 0.9855388409826753 and parameters: {'n_estimators': 93, 'max_depth': 8, 'learning_rate': 0.08820908809726784}. Best is trial 1 with value: 0.9855388409826753.\n",
      "[I 2025-07-18 02:31:37,227] Trial 2 finished with value: 0.9867801174074297 and parameters: {'n_estimators': 62, 'max_depth': 4, 'learning_rate': 0.11266015705482257}. Best is trial 2 with value: 0.9867801174074297.\n",
      "[I 2025-07-18 02:31:37,732] Trial 3 finished with value: 0.9873874768487513 and parameters: {'n_estimators': 69, 'max_depth': 2, 'learning_rate': 0.19888160239314795}. Best is trial 3 with value: 0.9873874768487513.\n",
      "[I 2025-07-18 02:31:38,549] Trial 4 finished with value: 0.9885560087016364 and parameters: {'n_estimators': 111, 'max_depth': 2, 'learning_rate': 0.14604043286374696}. Best is trial 4 with value: 0.9885560087016364.\n",
      "[I 2025-07-18 02:31:40,017] Trial 5 finished with value: 0.9889081848035436 and parameters: {'n_estimators': 106, 'max_depth': 4, 'learning_rate': 0.08288657775879446}. Best is trial 5 with value: 0.9889081848035436.\n",
      "[I 2025-07-18 02:31:44,718] Trial 6 finished with value: 0.9836093778145222 and parameters: {'n_estimators': 165, 'max_depth': 8, 'learning_rate': 0.03533284174532814}. Best is trial 5 with value: 0.9889081848035436.\n",
      "[I 2025-07-18 02:31:45,108] Trial 7 finished with value: 0.9845816147909345 and parameters: {'n_estimators': 53, 'max_depth': 2, 'learning_rate': 0.17853523993759823}. Best is trial 5 with value: 0.9889081848035436.\n",
      "[I 2025-07-18 02:31:46,902] Trial 8 finished with value: 0.9842352120677473 and parameters: {'n_estimators': 162, 'max_depth': 3, 'learning_rate': 0.03857333469513466}. Best is trial 5 with value: 0.9889081848035436.\n",
      "[I 2025-07-18 02:31:51,212] Trial 9 finished with value: 0.987017980610685 and parameters: {'n_estimators': 125, 'max_depth': 9, 'learning_rate': 0.13033638580444026}. Best is trial 5 with value: 0.9889081848035436.\n",
      "[I 2025-07-18 02:31:54,637] Trial 10 finished with value: 0.990636734392248 and parameters: {'n_estimators': 197, 'max_depth': 5, 'learning_rate': 0.07410722708201796}. Best is trial 10 with value: 0.990636734392248.\n",
      "[I 2025-07-18 02:31:58,174] Trial 11 finished with value: 0.9903526841592344 and parameters: {'n_estimators': 196, 'max_depth': 5, 'learning_rate': 0.07045732280442087}. Best is trial 10 with value: 0.990636734392248.\n",
      "[I 2025-07-18 02:32:02,296] Trial 12 finished with value: 0.9895051521631696 and parameters: {'n_estimators': 197, 'max_depth': 6, 'learning_rate': 0.06460574793416167}. Best is trial 10 with value: 0.990636734392248.\n",
      "[I 2025-07-18 02:32:06,427] Trial 13 finished with value: 0.9778873821653403 and parameters: {'n_estimators': 199, 'max_depth': 6, 'learning_rate': 0.010892383766462926}. Best is trial 10 with value: 0.990636734392248.\n",
      "[I 2025-07-18 02:32:09,325] Trial 14 finished with value: 0.9896460226039323 and parameters: {'n_estimators': 169, 'max_depth': 5, 'learning_rate': 0.0570037523825023}. Best is trial 10 with value: 0.990636734392248.\n",
      "[I 2025-07-18 02:32:12,936] Trial 15 finished with value: 0.9886818683577279 and parameters: {'n_estimators': 146, 'max_depth': 7, 'learning_rate': 0.10151155638296414}. Best is trial 10 with value: 0.990636734392248.\n",
      "[I 2025-07-18 02:32:16,084] Trial 16 finished with value: 0.9903503748077465 and parameters: {'n_estimators': 183, 'max_depth': 5, 'learning_rate': 0.06584744956472006}. Best is trial 10 with value: 0.990636734392248.\n",
      "[I 2025-07-18 02:32:18,634] Trial 17 finished with value: 0.9909519608703483 and parameters: {'n_estimators': 147, 'max_depth': 5, 'learning_rate': 0.11623883097008428}. Best is trial 17 with value: 0.9909519608703483.\n",
      "[I 2025-07-18 02:32:20,752] Trial 18 finished with value: 0.9911136154745024 and parameters: {'n_estimators': 148, 'max_depth': 4, 'learning_rate': 0.1278232496837885}. Best is trial 18 with value: 0.9911136154745024.\n",
      "[I 2025-07-18 02:32:22,907] Trial 19 finished with value: 0.9914704102793854 and parameters: {'n_estimators': 153, 'max_depth': 4, 'learning_rate': 0.13706227574622626}. Best is trial 19 with value: 0.9914704102793854.\n"
     ]
    },
    {
     "name": "stdout",
     "output_type": "stream",
     "text": [
      "Best trial: {'n_estimators': 153, 'max_depth': 4, 'learning_rate': 0.13706227574622626}\n",
      "Best Parameters: {'n_estimators': 153, 'max_depth': 4, 'learning_rate': 0.13706227574622626}\n"
     ]
    }
   ],
   "source": [
    "# Step 2: Hyperparameter Tuning with Optuna\n",
    "best_params = run_optimization()\n",
    "print(\"Best Parameters:\", best_params)\n"
   ]
  },
  {
   "cell_type": "code",
   "execution_count": 3,
   "id": "84415013-1f94-4f64-9e39-84cb6fcc7bd3",
   "metadata": {},
   "outputs": [
    {
     "name": "stderr",
     "output_type": "stream",
     "text": [
      "2025/07/18 02:32:41 WARNING mlflow.models.model: `artifact_path` is deprecated. Please use `name` instead.\n",
      "\u001b[31m2025/07/18 02:32:43 WARNING mlflow.models.model: Model logged without a signature and input example. Please set `input_example` parameter when logging the model to auto infer the model signature.\u001b[0m\n"
     ]
    },
    {
     "name": "stdout",
     "output_type": "stream",
     "text": [
      "Model saved to ../models/model.pkl\n",
      "Final Accuracy: 0.9520, AUC: 0.9915\n"
     ]
    }
   ],
   "source": [
    "# Step 3: Train final model using best parameters\n",
    "best_model, acc, auc = train(X_train, X_test, y_train, y_test, best_params)\n",
    "print(f\"Final Accuracy: {acc:.4f}, AUC: {auc:.4f}\")\n"
   ]
  },
  {
   "cell_type": "code",
   "execution_count": 4,
   "id": "aeab2323-d0a0-4e93-b709-2f6177a7f459",
   "metadata": {},
   "outputs": [
    {
     "name": "stderr",
     "output_type": "stream",
     "text": [
      "2025/07/18 02:33:47 WARNING mlflow.models.model: `artifact_path` is deprecated. Please use `name` instead.\n"
     ]
    },
    {
     "name": "stdout",
     "output_type": "stream",
     "text": [
      "Final model saved at: models/final_model.pkl\n"
     ]
    },
    {
     "name": "stderr",
     "output_type": "stream",
     "text": [
      "\u001b[31m2025/07/18 02:33:49 WARNING mlflow.models.model: Model logged without a signature and input example. Please set `input_example` parameter when logging the model to auto infer the model signature.\u001b[0m\n"
     ]
    },
    {
     "name": "stdout",
     "output_type": "stream",
     "text": [
      "Model registered to MLflow\n",
      "Final Accuracy: 0.952\n",
      "Final AUC: 0.9914611728734337\n"
     ]
    }
   ],
   "source": [
    "# Step 4: Model Registration\n",
    "\n",
    "# 1. Import the register_model function from your script\n",
    "from model_registration import register_model\n",
    "\n",
    "import mlflow\n",
    "mlflow.end_run() # End any active run\n",
    "\n",
    "# 2. Call it with your final model and test data\n",
    "acc, auc = register_model(best_model, X_test, y_test, best_params)\n",
    "\n",
    "print(\"Final Accuracy:\", acc)\n",
    "print(\"Final AUC:\", auc)\n"
   ]
  },
  {
   "cell_type": "code",
   "execution_count": 9,
   "id": "c2d7d0e9-f875-4f29-99af-72eb0b6c1844",
   "metadata": {},
   "outputs": [
    {
     "ename": "FileNotFoundError",
     "evalue": "[Errno 2] No such file or directory: '../models/final_model.pkl'",
     "output_type": "error",
     "traceback": [
      "\u001b[31m---------------------------------------------------------------------------\u001b[39m",
      "\u001b[31mFileNotFoundError\u001b[39m                         Traceback (most recent call last)",
      "\u001b[36mCell\u001b[39m\u001b[36m \u001b[39m\u001b[32mIn[9]\u001b[39m\u001b[32m, line 20\u001b[39m\n\u001b[32m     17\u001b[39m scaler = joblib.load(scaler_path)\n\u001b[32m     19\u001b[39m \u001b[38;5;66;03m# Run batch inference\u001b[39;00m\n\u001b[32m---> \u001b[39m\u001b[32m20\u001b[39m \u001b[43mbatch_predict\u001b[49m\u001b[43m(\u001b[49m\u001b[43mmodel_path\u001b[49m\u001b[43m,\u001b[49m\u001b[43m \u001b[49m\u001b[43mscaler\u001b[49m\u001b[43m,\u001b[49m\u001b[43m \u001b[49m\u001b[43minput_csv_path\u001b[49m\u001b[43m,\u001b[49m\u001b[43m \u001b[49m\u001b[43moutput_csv_path\u001b[49m\u001b[43m)\u001b[49m\n\u001b[32m     22\u001b[39m \u001b[38;5;66;03m# Preview some predictions\u001b[39;00m\n\u001b[32m     23\u001b[39m predictions = pd.read_csv(output_csv_path)\n",
      "\u001b[36mFile \u001b[39m\u001b[32m~/Desktop/diabetes-ml-pipeline/notebooks/../src/batch_inference.py:7\u001b[39m, in \u001b[36mbatch_predict\u001b[39m\u001b[34m(model_path, scaler, input_path, output_path)\u001b[39m\n\u001b[32m      4\u001b[39m \u001b[38;5;28;01mimport\u001b[39;00m\u001b[38;5;250m \u001b[39m\u001b[34;01mjoblib\u001b[39;00m\n\u001b[32m      5\u001b[39m \u001b[38;5;28;01mimport\u001b[39;00m\u001b[38;5;250m \u001b[39m\u001b[34;01mos\u001b[39;00m\n\u001b[32m----> \u001b[39m\u001b[32m7\u001b[39m \u001b[38;5;28;01mdef\u001b[39;00m\u001b[38;5;250m \u001b[39m\u001b[34mbatch_predict\u001b[39m(model_path, scaler, input_path, output_path):\n\u001b[32m      8\u001b[39m     \u001b[38;5;66;03m# Load model\u001b[39;00m\n\u001b[32m      9\u001b[39m     model = joblib.load(model_path)\n\u001b[32m     11\u001b[39m     \u001b[38;5;66;03m# Load data\u001b[39;00m\n",
      "\u001b[36mFile \u001b[39m\u001b[32m/Library/Frameworks/Python.framework/Versions/3.12/lib/python3.12/site-packages/joblib/numpy_pickle.py:735\u001b[39m, in \u001b[36mload\u001b[39m\u001b[34m(filename, mmap_mode, ensure_native_byte_order)\u001b[39m\n\u001b[32m    733\u001b[39m         obj = _unpickle(fobj, ensure_native_byte_order=ensure_native_byte_order)\n\u001b[32m    734\u001b[39m \u001b[38;5;28;01melse\u001b[39;00m:\n\u001b[32m--> \u001b[39m\u001b[32m735\u001b[39m     \u001b[38;5;28;01mwith\u001b[39;00m \u001b[38;5;28;43mopen\u001b[39;49m\u001b[43m(\u001b[49m\u001b[43mfilename\u001b[49m\u001b[43m,\u001b[49m\u001b[43m \u001b[49m\u001b[33;43m\"\u001b[39;49m\u001b[33;43mrb\u001b[39;49m\u001b[33;43m\"\u001b[39;49m\u001b[43m)\u001b[49m \u001b[38;5;28;01mas\u001b[39;00m f:\n\u001b[32m    736\u001b[39m         \u001b[38;5;28;01mwith\u001b[39;00m _validate_fileobject_and_memmap(f, filename, mmap_mode) \u001b[38;5;28;01mas\u001b[39;00m (\n\u001b[32m    737\u001b[39m             fobj,\n\u001b[32m    738\u001b[39m             validated_mmap_mode,\n\u001b[32m    739\u001b[39m         ):\n\u001b[32m    740\u001b[39m             \u001b[38;5;28;01mif\u001b[39;00m \u001b[38;5;28misinstance\u001b[39m(fobj, \u001b[38;5;28mstr\u001b[39m):\n\u001b[32m    741\u001b[39m                 \u001b[38;5;66;03m# if the returned file object is a string, this means we\u001b[39;00m\n\u001b[32m    742\u001b[39m                 \u001b[38;5;66;03m# try to load a pickle file generated with an version of\u001b[39;00m\n\u001b[32m    743\u001b[39m                 \u001b[38;5;66;03m# Joblib so we load it with joblib compatibility function.\u001b[39;00m\n",
      "\u001b[31mFileNotFoundError\u001b[39m: [Errno 2] No such file or directory: '../models/final_model.pkl'"
     ]
    }
   ],
   "source": [
    "# Step 5: Run Batch Inference on New Data (diabetes2.csv)\n",
    "import sys\n",
    "sys.path.append(\"../src\")\n",
    "\n",
    "from batch_inference import batch_predict  # import after adding path\n",
    "\n",
    "import joblib\n",
    "import pandas as pd\n",
    "\n",
    "# Paths\n",
    "model_path = \"../models/model.pkl\"\n",
    "scaler_path = \"../models/scaler.pkl\"\n",
    "input_csv_path = \"../data/diabetes2.csv\"\n",
    "output_csv_path = \"../output/predictions.csv\"\n",
    "\n",
    "# Load scaler\n",
    "scaler = joblib.load(scaler_path)\n",
    "\n",
    "# Run batch inference\n",
    "batch_predict(model_path, scaler, input_csv_path, output_csv_path)\n",
    "\n",
    "# Preview some predictions\n",
    "predictions = pd.read_csv(output_csv_path)\n",
    "print(predictions.head())\n",
    "\n"
   ]
  },
  {
   "cell_type": "code",
   "execution_count": null,
   "id": "53836694-9498-45e0-9f8a-f14b8763562c",
   "metadata": {},
   "outputs": [],
   "source": []
  }
 ],
 "metadata": {
  "kernelspec": {
   "display_name": "Python 3 (ipykernel)",
   "language": "python",
   "name": "python3"
  },
  "language_info": {
   "codemirror_mode": {
    "name": "ipython",
    "version": 3
   },
   "file_extension": ".py",
   "mimetype": "text/x-python",
   "name": "python",
   "nbconvert_exporter": "python",
   "pygments_lexer": "ipython3",
   "version": "3.12.4"
  }
 },
 "nbformat": 4,
 "nbformat_minor": 5
}
