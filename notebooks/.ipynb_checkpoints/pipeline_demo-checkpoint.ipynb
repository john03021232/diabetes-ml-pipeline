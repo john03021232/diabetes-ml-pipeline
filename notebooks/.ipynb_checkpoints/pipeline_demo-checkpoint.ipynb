{
 "cells": [
  {
   "cell_type": "code",
   "execution_count": 1,
   "id": "47a9fa35-4fbe-4538-bdca-ef1a05182fdb",
   "metadata": {},
   "outputs": [
    {
     "name": "stderr",
     "output_type": "stream",
     "text": [
      "/Library/Frameworks/Python.framework/Versions/3.12/lib/python3.12/site-packages/tqdm/auto.py:21: TqdmWarning: IProgress not found. Please update jupyter and ipywidgets. See https://ipywidgets.readthedocs.io/en/stable/user_install.html\n",
      "  from .autonotebook import tqdm as notebook_tqdm\n"
     ]
    },
    {
     "name": "stdout",
     "output_type": "stream",
     "text": [
      "Index(['PatientID', 'Pregnancies', 'PlasmaGlucose', 'DiastolicBloodPressure',\n",
      "       'TricepsThickness', 'SerumInsulin', 'BMI', 'DiabetesPedigree', 'Age',\n",
      "       'Diabetic'],\n",
      "      dtype='object')\n"
     ]
    },
    {
     "data": {
      "text/plain": [
       "['../models/scaler.pkl']"
      ]
     },
     "execution_count": 1,
     "metadata": {},
     "output_type": "execute_result"
    }
   ],
   "source": [
    "# Setup imports and path for local modules\n",
    "import sys\n",
    "sys.path.append(\"../src\")\n",
    "\n",
    "from data_preprocessing import load_and_preprocess\n",
    "from hpo_optuna import run_optimization\n",
    "from train_model import train\n",
    "from batch_inference import batch_predict\n",
    "# from drift_detection import detect_drift  # Optional bonus\n",
    "\n",
    "import joblib\n",
    "import mlflow\n",
    "import pandas as pd\n",
    "\n",
    "df = pd.read_csv(\"../data/diabetes.csv\")\n",
    "print(df.columns)\n",
    "df.head()\n",
    "\n",
    "\n",
    "# Step 1: Preprocess Data\n",
    "X_train, X_test, y_train, y_test, scaler = load_and_preprocess(\"../data/diabetes.csv\")\n",
    "joblib.dump(scaler, \"../models/scaler.pkl\")  # Save scaler for inference\n",
    "\n",
    "\n"
   ]
  },
  {
   "cell_type": "code",
   "execution_count": 2,
   "id": "73f59d9c-fe37-466e-82cb-8a3ad7c30222",
   "metadata": {},
   "outputs": [
    {
     "name": "stderr",
     "output_type": "stream",
     "text": [
      "[I 2025-07-18 02:19:58,839] A new study created in memory with name: no-name-be8b8938-354b-4140-b265-4421a9d03fa4\n",
      "[I 2025-07-18 02:20:04,227] Trial 0 finished with value: 0.9824350725829173 and parameters: {'n_estimators': 144, 'max_depth': 10, 'learning_rate': 0.07295663478268426}. Best is trial 0 with value: 0.9824350725829173.\n",
      "[I 2025-07-18 02:20:06,444] Trial 1 finished with value: 0.9868828835486418 and parameters: {'n_estimators': 105, 'max_depth': 6, 'learning_rate': 0.056403065556954506}. Best is trial 1 with value: 0.9868828835486418.\n",
      "[I 2025-07-18 02:20:11,973] Trial 2 finished with value: 0.9875144911805868 and parameters: {'n_estimators': 169, 'max_depth': 9, 'learning_rate': 0.15476034020745788}. Best is trial 2 with value: 0.9875144911805868.\n",
      "[I 2025-07-18 02:20:14,217] Trial 3 finished with value: 0.9874937070171955 and parameters: {'n_estimators': 163, 'max_depth': 4, 'learning_rate': 0.0470937102945233}. Best is trial 2 with value: 0.9875144911805868.\n",
      "[I 2025-07-18 02:20:19,194] Trial 4 finished with value: 0.9842767803945297 and parameters: {'n_estimators': 152, 'max_depth': 9, 'learning_rate': 0.07703951411111619}. Best is trial 2 with value: 0.9875144911805868.\n",
      "[I 2025-07-18 02:20:21,432] Trial 5 finished with value: 0.980808711797553 and parameters: {'n_estimators': 131, 'max_depth': 5, 'learning_rate': 0.022966995453450528}. Best is trial 2 with value: 0.9875144911805868.\n",
      "[I 2025-07-18 02:20:22,255] Trial 6 finished with value: 0.9822509018017561 and parameters: {'n_estimators': 78, 'max_depth': 3, 'learning_rate': 0.0669230699339444}. Best is trial 2 with value: 0.9875144911805868.\n",
      "[I 2025-07-18 02:20:23,902] Trial 7 finished with value: 0.9903954071617608 and parameters: {'n_estimators': 93, 'max_depth': 5, 'learning_rate': 0.1393463800660675}. Best is trial 7 with value: 0.9903954071617608.\n",
      "[I 2025-07-18 02:20:25,831] Trial 8 finished with value: 0.9845192623007607 and parameters: {'n_estimators': 68, 'max_depth': 8, 'learning_rate': 0.1080315318060617}. Best is trial 7 with value: 0.9903954071617608.\n",
      "[I 2025-07-18 02:20:27,988] Trial 9 finished with value: 0.9898942778888833 and parameters: {'n_estimators': 126, 'max_depth': 5, 'learning_rate': 0.09595272262748132}. Best is trial 7 with value: 0.9903954071617608.\n",
      "[I 2025-07-18 02:20:29,376] Trial 10 finished with value: 0.9918630000323309 and parameters: {'n_estimators': 192, 'max_depth': 2, 'learning_rate': 0.19717521589162865}. Best is trial 10 with value: 0.9918630000323309.\n",
      "[I 2025-07-18 02:20:30,810] Trial 11 finished with value: 0.9918468345719156 and parameters: {'n_estimators': 199, 'max_depth': 2, 'learning_rate': 0.19417690570294394}. Best is trial 10 with value: 0.9918630000323309.\n",
      "[I 2025-07-18 02:20:32,240] Trial 12 finished with value: 0.9919345899284564 and parameters: {'n_estimators': 195, 'max_depth': 2, 'learning_rate': 0.19509599381442363}. Best is trial 12 with value: 0.9919345899284564.\n",
      "[I 2025-07-18 02:20:33,662] Trial 13 finished with value: 0.9920592949088037 and parameters: {'n_estimators': 196, 'max_depth': 2, 'learning_rate': 0.19679701673570765}. Best is trial 13 with value: 0.9920592949088037.\n",
      "[I 2025-07-18 02:20:35,525] Trial 14 finished with value: 0.9908688242167834 and parameters: {'n_estimators': 176, 'max_depth': 3, 'learning_rate': 0.1631216275795218}. Best is trial 13 with value: 0.9920592949088037.\n",
      "[I 2025-07-18 02:20:36,870] Trial 15 finished with value: 0.9914854210640567 and parameters: {'n_estimators': 183, 'max_depth': 2, 'learning_rate': 0.17498515694244338}. Best is trial 13 with value: 0.9920592949088037.\n",
      "[I 2025-07-18 02:20:38,163] Trial 16 finished with value: 0.9865307074467349 and parameters: {'n_estimators': 52, 'max_depth': 7, 'learning_rate': 0.11893430532868313}. Best is trial 13 with value: 0.9920592949088037.\n",
      "[I 2025-07-18 02:20:40,316] Trial 17 finished with value: 0.9910974500140871 and parameters: {'n_estimators': 199, 'max_depth': 3, 'learning_rate': 0.1829570081404783}. Best is trial 13 with value: 0.9920592949088037.\n",
      "[I 2025-07-18 02:20:42,402] Trial 18 finished with value: 0.9907879969147064 and parameters: {'n_estimators': 150, 'max_depth': 4, 'learning_rate': 0.14492525527532285}. Best is trial 13 with value: 0.9920592949088037.\n",
      "[I 2025-07-18 02:20:45,033] Trial 19 finished with value: 0.9913110650267192 and parameters: {'n_estimators': 184, 'max_depth': 4, 'learning_rate': 0.12921140930289238}. Best is trial 13 with value: 0.9920592949088037.\n"
     ]
    },
    {
     "name": "stdout",
     "output_type": "stream",
     "text": [
      "Best trial: {'n_estimators': 196, 'max_depth': 2, 'learning_rate': 0.19679701673570765}\n",
      "Best Parameters: {'n_estimators': 196, 'max_depth': 2, 'learning_rate': 0.19679701673570765}\n"
     ]
    }
   ],
   "source": [
    "# Step 2: Hyperparameter Tuning with Optuna\n",
    "best_params = run_optimization()\n",
    "print(\"Best Parameters:\", best_params)\n"
   ]
  },
  {
   "cell_type": "code",
   "execution_count": 3,
   "id": "84415013-1f94-4f64-9e39-84cb6fcc7bd3",
   "metadata": {},
   "outputs": [
    {
     "name": "stderr",
     "output_type": "stream",
     "text": [
      "2025/07/18 02:20:56 WARNING mlflow.models.model: `artifact_path` is deprecated. Please use `name` instead.\n",
      "\u001b[31m2025/07/18 02:20:58 WARNING mlflow.models.model: Model logged without a signature and input example. Please set `input_example` parameter when logging the model to auto infer the model signature.\u001b[0m\n"
     ]
    },
    {
     "name": "stdout",
     "output_type": "stream",
     "text": [
      "Model saved to ../models/model.pkl\n",
      "Final Accuracy: 0.9550, AUC: 0.9921\n"
     ]
    }
   ],
   "source": [
    "# Step 3: Train final model using best parameters\n",
    "best_model, acc, auc = train(X_train, X_test, y_train, y_test, best_params)\n",
    "print(f\"Final Accuracy: {acc:.4f}, AUC: {auc:.4f}\")\n",
    "\n"
   ]
  },
  {
   "cell_type": "code",
   "execution_count": 5,
   "id": "aeab2323-d0a0-4e93-b709-2f6177a7f459",
   "metadata": {},
   "outputs": [
    {
     "name": "stderr",
     "output_type": "stream",
     "text": [
      "2025/07/18 02:29:26 WARNING mlflow.models.model: `artifact_path` is deprecated. Please use `name` instead.\n"
     ]
    },
    {
     "name": "stdout",
     "output_type": "stream",
     "text": [
      "✅ Final model saved at: models/final_model.pkl\n"
     ]
    },
    {
     "name": "stderr",
     "output_type": "stream",
     "text": [
      "\u001b[31m2025/07/18 02:29:27 WARNING mlflow.models.model: Model logged without a signature and input example. Please set `input_example` parameter when logging the model to auto infer the model signature.\u001b[0m\n"
     ]
    },
    {
     "name": "stdout",
     "output_type": "stream",
     "text": [
      "✅ Model registered to MLflow\n",
      "Final Accuracy: 0.955\n",
      "Final AUC: 0.9920592949088037\n"
     ]
    }
   ],
   "source": [
    "# Step 4: Model Registration\n",
    "\n",
    "# 1. Import the register_model function from your script\n",
    "from model_registration import register_model\n",
    "\n",
    "import mlflow\n",
    "mlflow.end_run() # End any active run\n",
    "\n",
    "# 2. Call it with your final model and test data\n",
    "acc, auc = register_model(best_model, X_test, y_test, best_params)\n",
    "\n",
    "print(\"Final Accuracy:\", acc)\n",
    "print(\"Final AUC:\", auc)\n"
   ]
  },
  {
   "cell_type": "code",
   "execution_count": null,
   "id": "c2d7d0e9-f875-4f29-99af-72eb0b6c1844",
   "metadata": {},
   "outputs": [],
   "source": []
  }
 ],
 "metadata": {
  "kernelspec": {
   "display_name": "Python 3 (ipykernel)",
   "language": "python",
   "name": "python3"
  },
  "language_info": {
   "codemirror_mode": {
    "name": "ipython",
    "version": 3
   },
   "file_extension": ".py",
   "mimetype": "text/x-python",
   "name": "python",
   "nbconvert_exporter": "python",
   "pygments_lexer": "ipython3",
   "version": "3.12.4"
  }
 },
 "nbformat": 4,
 "nbformat_minor": 5
}
