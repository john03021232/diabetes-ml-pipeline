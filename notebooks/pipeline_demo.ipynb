{
 "cells": [
  {
   "cell_type": "code",
   "execution_count": 1,
   "id": "47a9fa35-4fbe-4538-bdca-ef1a05182fdb",
   "metadata": {},
   "outputs": [
    {
     "name": "stderr",
     "output_type": "stream",
     "text": [
      "/Library/Frameworks/Python.framework/Versions/3.12/lib/python3.12/site-packages/tqdm/auto.py:21: TqdmWarning: IProgress not found. Please update jupyter and ipywidgets. See https://ipywidgets.readthedocs.io/en/stable/user_install.html\n",
      "  from .autonotebook import tqdm as notebook_tqdm\n"
     ]
    },
    {
     "name": "stdout",
     "output_type": "stream",
     "text": [
      "Index(['PatientID', 'Pregnancies', 'PlasmaGlucose', 'DiastolicBloodPressure',\n",
      "       'TricepsThickness', 'SerumInsulin', 'BMI', 'DiabetesPedigree', 'Age',\n",
      "       'Diabetic'],\n",
      "      dtype='object')\n"
     ]
    },
    {
     "data": {
      "text/plain": [
       "['../models/scaler.pkl']"
      ]
     },
     "execution_count": 1,
     "metadata": {},
     "output_type": "execute_result"
    }
   ],
   "source": [
    "# Setup imports and path for local modules\n",
    "import sys\n",
    "sys.path.append(\"../src\")\n",
    "\n",
    "from data_preprocessing import load_and_preprocess\n",
    "from hpo_optuna import run_optimization\n",
    "from train_model import train\n",
    "from batch_inference import batch_predict\n",
    "# from drift_detection import detect_drift  # Optional bonus\n",
    "\n",
    "import joblib\n",
    "import mlflow\n",
    "import pandas as pd\n",
    "\n",
    "df = pd.read_csv(\"../data/diabetes.csv\")\n",
    "print(df.columns)\n",
    "df.head()\n",
    "\n",
    "\n",
    "# Step 1: Preprocess Data\n",
    "X_train, X_test, y_train, y_test, scaler = load_and_preprocess(\"../data/diabetes.csv\")\n",
    "joblib.dump(scaler, \"../models/scaler.pkl\")  # Save scaler for inference\n",
    "\n",
    "\n"
   ]
  },
  {
   "cell_type": "code",
   "execution_count": 2,
   "id": "73f59d9c-fe37-466e-82cb-8a3ad7c30222",
   "metadata": {},
   "outputs": [
    {
     "name": "stderr",
     "output_type": "stream",
     "text": [
      "[I 2025-07-16 18:34:17,419] A new study created in memory with name: no-name-78fab042-de23-4f77-b8dd-123483cafeb9\n",
      "[I 2025-07-16 18:34:18,296] Trial 0 finished with value: 0.9722935555237378 and parameters: {'n_estimators': 114, 'max_depth': 2, 'learning_rate': 0.032076731441393926}. Best is trial 0 with value: 0.9722935555237378.\n",
      "[I 2025-07-16 18:34:20,051] Trial 1 finished with value: 0.9846023989543257 and parameters: {'n_estimators': 61, 'max_depth': 8, 'learning_rate': 0.13703849148897584}. Best is trial 1 with value: 0.9846023989543257.\n",
      "[I 2025-07-16 18:34:23,309] Trial 2 finished with value: 0.9897707275842798 and parameters: {'n_estimators': 158, 'max_depth': 6, 'learning_rate': 0.10802190749338356}. Best is trial 2 with value: 0.9897707275842798.\n",
      "[I 2025-07-16 18:34:25,488] Trial 3 finished with value: 0.9904069539192004 and parameters: {'n_estimators': 127, 'max_depth': 5, 'learning_rate': 0.14751543409907036}. Best is trial 3 with value: 0.9904069539192004.\n",
      "[I 2025-07-16 18:34:26,901] Trial 4 finished with value: 0.9839165215624148 and parameters: {'n_estimators': 188, 'max_depth': 2, 'learning_rate': 0.04332779331657673}. Best is trial 3 with value: 0.9904069539192004.\n",
      "[I 2025-07-16 18:34:30,648] Trial 5 finished with value: 0.98464743130834 and parameters: {'n_estimators': 181, 'max_depth': 6, 'learning_rate': 0.022166210507840754}. Best is trial 3 with value: 0.9904069539192004.\n",
      "[I 2025-07-16 18:34:32,093] Trial 6 finished with value: 0.9837467842280531 and parameters: {'n_estimators': 51, 'max_depth': 8, 'learning_rate': 0.125965961420947}. Best is trial 3 with value: 0.9904069539192004.\n",
      "[I 2025-07-16 18:34:34,337] Trial 7 finished with value: 0.9843599170480944 and parameters: {'n_estimators': 92, 'max_depth': 7, 'learning_rate': 0.05256858260350368}. Best is trial 3 with value: 0.9904069539192004.\n",
      "[I 2025-07-16 18:34:36,575] Trial 8 finished with value: 0.991752151160911 and parameters: {'n_estimators': 162, 'max_depth': 4, 'learning_rate': 0.16935699367965726}. Best is trial 8 with value: 0.991752151160911.\n",
      "[I 2025-07-16 18:34:38,431] Trial 9 finished with value: 0.9898342347501975 and parameters: {'n_estimators': 90, 'max_depth': 6, 'learning_rate': 0.19948679765209928}. Best is trial 8 with value: 0.991752151160911.\n",
      "[I 2025-07-16 18:34:44,429] Trial 10 finished with value: 0.9856750927204623 and parameters: {'n_estimators': 157, 'max_depth': 10, 'learning_rate': 0.1964725334770367}. Best is trial 8 with value: 0.991752151160911.\n",
      "[I 2025-07-16 18:34:46,443] Trial 11 finished with value: 0.9909046191648461 and parameters: {'n_estimators': 145, 'max_depth': 4, 'learning_rate': 0.16091908587866324}. Best is trial 8 with value: 0.991752151160911.\n",
      "[I 2025-07-16 18:34:48,507] Trial 12 finished with value: 0.9915974246112206 and parameters: {'n_estimators': 149, 'max_depth': 4, 'learning_rate': 0.16547032934127034}. Best is trial 8 with value: 0.991752151160911.\n",
      "[I 2025-07-16 18:34:50,875] Trial 13 finished with value: 0.991208298885507 and parameters: {'n_estimators': 171, 'max_depth': 4, 'learning_rate': 0.16899033393509258}. Best is trial 8 with value: 0.991752151160911.\n",
      "[I 2025-07-16 18:34:52,958] Trial 14 finished with value: 0.9904808531668137 and parameters: {'n_estimators': 197, 'max_depth': 3, 'learning_rate': 0.07917477374009912}. Best is trial 8 with value: 0.991752151160911.\n",
      "[I 2025-07-16 18:34:54,788] Trial 15 finished with value: 0.9909219393010056 and parameters: {'n_estimators': 132, 'max_depth': 4, 'learning_rate': 0.17157873265777623}. Best is trial 8 with value: 0.991752151160911.\n",
      "[I 2025-07-16 18:34:56,578] Trial 16 finished with value: 0.9910235507664737 and parameters: {'n_estimators': 165, 'max_depth': 3, 'learning_rate': 0.10840598526598309}. Best is trial 8 with value: 0.991752151160911.\n",
      "[I 2025-07-16 18:34:58,388] Trial 17 finished with value: 0.988836594907418 and parameters: {'n_estimators': 105, 'max_depth': 5, 'learning_rate': 0.07930663226894813}. Best is trial 8 with value: 0.991752151160911.\n",
      "[I 2025-07-16 18:34:59,890] Trial 18 finished with value: 0.990826101214257 and parameters: {'n_estimators': 142, 'max_depth': 3, 'learning_rate': 0.18417189066886652}. Best is trial 8 with value: 0.991752151160911.\n",
      "[I 2025-07-16 18:35:02,371] Trial 19 finished with value: 0.9903930978102728 and parameters: {'n_estimators': 144, 'max_depth': 5, 'learning_rate': 0.1509274630139634}. Best is trial 8 with value: 0.991752151160911.\n"
     ]
    },
    {
     "name": "stdout",
     "output_type": "stream",
     "text": [
      "Best trial: {'n_estimators': 162, 'max_depth': 4, 'learning_rate': 0.16935699367965726}\n",
      "Best Parameters: {'n_estimators': 162, 'max_depth': 4, 'learning_rate': 0.16935699367965726}\n"
     ]
    }
   ],
   "source": [
    "# Step 2: Hyperparameter Tuning with Optuna\n",
    "best_params = run_optimization()\n",
    "print(\"Best Parameters:\", best_params)\n"
   ]
  },
  {
   "cell_type": "code",
   "execution_count": 3,
   "id": "84415013-1f94-4f64-9e39-84cb6fcc7bd3",
   "metadata": {},
   "outputs": [
    {
     "name": "stderr",
     "output_type": "stream",
     "text": [
      "2025/07/16 18:35:19 WARNING mlflow.models.model: `artifact_path` is deprecated. Please use `name` instead.\n",
      "\u001b[31m2025/07/16 18:35:21 WARNING mlflow.models.model: Model logged without a signature and input example. Please set `input_example` parameter when logging the model to auto infer the model signature.\u001b[0m\n"
     ]
    },
    {
     "name": "stdout",
     "output_type": "stream",
     "text": [
      "Model saved to models/model.pkl\n",
      "Final Accuracy: 0.9545, AUC: 0.9918\n"
     ]
    }
   ],
   "source": [
    "# Step 3: Train final model using best parameters\n",
    "model, acc, auc = train(X_train, X_test, y_train, y_test, best_params)\n",
    "print(f\"Final Accuracy: {acc:.4f}, AUC: {auc:.4f}\")\n",
    "\n",
    "\n",
    "\n"
   ]
  },
  {
   "cell_type": "code",
   "execution_count": null,
   "id": "aeab2323-d0a0-4e93-b709-2f6177a7f459",
   "metadata": {},
   "outputs": [],
   "source": []
  }
 ],
 "metadata": {
  "kernelspec": {
   "display_name": "Python 3 (ipykernel)",
   "language": "python",
   "name": "python3"
  },
  "language_info": {
   "codemirror_mode": {
    "name": "ipython",
    "version": 3
   },
   "file_extension": ".py",
   "mimetype": "text/x-python",
   "name": "python",
   "nbconvert_exporter": "python",
   "pygments_lexer": "ipython3",
   "version": "3.12.4"
  }
 },
 "nbformat": 4,
 "nbformat_minor": 5
}
